{
 "cells": [
  {
   "cell_type": "markdown",
   "metadata": {},
   "source": [
    "Vamos usar a biblioteca Pandas para analisar algumas estatísticas dos dados que criamos. Aqui estão alguns exemplos de análises estatísticas que podemos realizar:"
   ]
  },
  {
   "cell_type": "code",
   "execution_count": 1,
   "metadata": {},
   "outputs": [
    {
     "name": "stdout",
     "output_type": "stream",
     "text": [
      "              id      idade\n",
      "count  43.000000  43.000000\n",
      "mean   22.000000  31.279070\n",
      "std    12.556539   5.521928\n",
      "min     1.000000  22.000000\n",
      "25%    11.500000  28.000000\n",
      "50%    22.000000  30.000000\n",
      "75%    32.500000  34.500000\n",
      "max    43.000000  45.000000\n"
     ]
    }
   ],
   "source": [
    "import pandas as pd\n",
    "import sqlite3\n",
    "\n",
    "# Ler o banco de dados\n",
    "nome_banco_de_dados = 'banco_de_dados.db'\n",
    "conexao = sqlite3.connect(nome_banco_de_dados)\n",
    "query = 'SELECT * FROM exemplo'\n",
    "df = pd.read_sql(query, conexao)\n",
    "\n",
    "# Exibir um resumo estatístico básico das colunas numéricas\n",
    "resumo = df.describe()\n",
    "print(resumo)"
   ]
  },
  {
   "cell_type": "markdown",
   "metadata": {},
   "source": [
    "Este código irá gerar um resumo estatístico básico das colunas numéricas, incluindo contagem, média, desvio padrão, mínimo e máximo."
   ]
  },
  {
   "cell_type": "markdown",
   "metadata": {},
   "source": [
    "Contagem de registros por gênero:"
   ]
  },
  {
   "cell_type": "code",
   "execution_count": 2,
   "metadata": {},
   "outputs": [
    {
     "name": "stdout",
     "output_type": "stream",
     "text": [
      "Masculino    22\n",
      "Feminino     21\n",
      "Name: genero, dtype: int64\n"
     ]
    }
   ],
   "source": [
    "# Contar quantos registros existem por gênero\n",
    "contagem_genero = df['genero'].value_counts()\n",
    "print(contagem_genero)"
   ]
  },
  {
   "cell_type": "markdown",
   "metadata": {},
   "source": [
    "Isso contará quantos registros existem para cada valor único na coluna 'genero'."
   ]
  },
  {
   "cell_type": "markdown",
   "metadata": {},
   "source": [
    "Média de idade por gênero:"
   ]
  },
  {
   "cell_type": "code",
   "execution_count": 3,
   "metadata": {},
   "outputs": [
    {
     "name": "stdout",
     "output_type": "stream",
     "text": [
      "genero\n",
      "Feminino     29.142857\n",
      "Masculino    33.318182\n",
      "Name: idade, dtype: float64\n"
     ]
    }
   ],
   "source": [
    "# Calcular a média de idade para cada gênero\n",
    "media_idade_genero = df.groupby('genero')['idade'].mean()\n",
    "print(media_idade_genero)"
   ]
  },
  {
   "cell_type": "markdown",
   "metadata": {},
   "source": [
    "Isso calculará a média de idade para cada categoria única na coluna 'genero'."
   ]
  },
  {
   "cell_type": "markdown",
   "metadata": {},
   "source": [
    "Contagem de registros por faixa etária:"
   ]
  },
  {
   "cell_type": "code",
   "execution_count": 4,
   "metadata": {},
   "outputs": [
    {
     "name": "stdout",
     "output_type": "stream",
     "text": [
      "20-29    23\n",
      "30-39    16\n",
      "40-49     4\n",
      "Name: idade, dtype: int64\n"
     ]
    }
   ],
   "source": [
    "# Criar categorias de faixa etária\n",
    "faixas_etarias = pd.cut(df['idade'], bins=[20, 30, 40, 50], labels=['20-29', '30-39', '40-49'])\n",
    "\n",
    "# Contar quantos registros estão em cada faixa etária\n",
    "contagem_faixa_etaria = faixas_etarias.value_counts()\n",
    "print(contagem_faixa_etaria)"
   ]
  },
  {
   "cell_type": "markdown",
   "metadata": {},
   "source": [
    "Este código criará categorias de faixa etária e contará quantos registros estão em cada faixa."
   ]
  },
  {
   "cell_type": "markdown",
   "metadata": {},
   "source": [
    "Idade média e mediana:"
   ]
  },
  {
   "cell_type": "code",
   "execution_count": 5,
   "metadata": {},
   "outputs": [
    {
     "name": "stdout",
     "output_type": "stream",
     "text": [
      "Idade Média: 31.28\n",
      "Idade Mediana: 30.0\n"
     ]
    }
   ],
   "source": [
    "# Calcular a idade média e mediana dos registros\n",
    "idade_media = df['idade'].mean()\n",
    "idade_mediana = df['idade'].median()\n",
    "\n",
    "print(f'Idade Média: {idade_media:.2f}')\n",
    "print(f'Idade Mediana: {idade_mediana}')"
   ]
  },
  {
   "cell_type": "markdown",
   "metadata": {},
   "source": [
    "Essa análise calcula a idade média e a idade mediana dos registros na coluna 'idade'."
   ]
  },
  {
   "cell_type": "markdown",
   "metadata": {},
   "source": [
    "Contagem de registros por e-mail de domínio:"
   ]
  },
  {
   "cell_type": "code",
   "execution_count": 6,
   "metadata": {},
   "outputs": [
    {
     "name": "stdout",
     "output_type": "stream",
     "text": [
      "email.com    43\n",
      "Name: dominio_email, dtype: int64\n"
     ]
    }
   ],
   "source": [
    "# Extrair o domínio dos endereços de e-mail e contar a frequência de cada domínio\n",
    "df['dominio_email'] = df['email'].str.split('@').str[1]\n",
    "contagem_dominio_email = df['dominio_email'].value_counts()\n",
    "print(contagem_dominio_email)"
   ]
  },
  {
   "cell_type": "markdown",
   "metadata": {},
   "source": [
    "Isso contará quantos registros existem para cada domínio de e-mail presente na coluna 'email'"
   ]
  },
  {
   "cell_type": "markdown",
   "metadata": {},
   "source": [
    "Idade máxima por gênero:"
   ]
  },
  {
   "cell_type": "code",
   "execution_count": 7,
   "metadata": {},
   "outputs": [
    {
     "name": "stdout",
     "output_type": "stream",
     "text": [
      "genero\n",
      "Feminino     40\n",
      "Masculino    45\n",
      "Name: idade, dtype: int64\n"
     ]
    }
   ],
   "source": [
    "# Encontrar a idade máxima para cada gênero\n",
    "idade_maxima_genero = df.groupby('genero')['idade'].max()\n",
    "print(idade_maxima_genero)"
   ]
  },
  {
   "cell_type": "markdown",
   "metadata": {},
   "source": [
    "Isso mostrará a idade máxima para cada categoria única na coluna 'genero'."
   ]
  },
  {
   "cell_type": "markdown",
   "metadata": {},
   "source": [
    "Correlação entre idade e telefone:"
   ]
  },
  {
   "cell_type": "code",
   "execution_count": null,
   "metadata": {},
   "outputs": [],
   "source": [
    "# Calcular a correlação entre as colunas 'idade' e 'telefone' (não faz sentido na prática, apenas um exemplo)\n",
    "correlacao_idade_telefone = df['idade'].corr(df['telefone'].str.replace('-', '').astype(int))\n",
    "print(f'Correlação entre Idade e Telefone: {correlacao_idade_telefone:.2f}')"
   ]
  },
  {
   "cell_type": "markdown",
   "metadata": {},
   "source": [
    "Contagem de registros por idade:"
   ]
  },
  {
   "cell_type": "code",
   "execution_count": 9,
   "metadata": {},
   "outputs": [
    {
     "name": "stdout",
     "output_type": "stream",
     "text": [
      "29    6\n",
      "28    5\n",
      "35    4\n",
      "31    3\n",
      "32    3\n",
      "27    3\n",
      "30    3\n",
      "22    2\n",
      "45    2\n",
      "33    2\n",
      "26    2\n",
      "42    1\n",
      "40    1\n",
      "38    1\n",
      "41    1\n",
      "25    1\n",
      "34    1\n",
      "36    1\n",
      "23    1\n",
      "Name: idade, dtype: int64\n"
     ]
    }
   ],
   "source": [
    "# Contar quantos registros existem para cada idade\n",
    "contagem_idade = df['idade'].value_counts()\n",
    "print(contagem_idade)"
   ]
  },
  {
   "cell_type": "markdown",
   "metadata": {},
   "source": [
    "Isso contará quantos registros existem para cada valor único na coluna 'idade'."
   ]
  },
  {
   "cell_type": "markdown",
   "metadata": {},
   "source": [
    "Maior e menor idade:"
   ]
  },
  {
   "cell_type": "code",
   "execution_count": 10,
   "metadata": {},
   "outputs": [
    {
     "name": "stdout",
     "output_type": "stream",
     "text": [
      "Maior Idade: 45\n",
      "Menor Idade: 22\n"
     ]
    }
   ],
   "source": [
    "# Encontrar a maior e a menor idade nos registros\n",
    "idade_maxima = df['idade'].max()\n",
    "idade_minima = df['idade'].min()\n",
    "\n",
    "print(f'Maior Idade: {idade_maxima}')\n",
    "print(f'Menor Idade: {idade_minima}')"
   ]
  },
  {
   "cell_type": "markdown",
   "metadata": {},
   "source": [
    "Essa análise identifica a maior e a menor idade presente nos dados."
   ]
  },
  {
   "cell_type": "markdown",
   "metadata": {},
   "source": [
    "Contagem de registros por gênero e faixa etária:"
   ]
  },
  {
   "cell_type": "code",
   "execution_count": 11,
   "metadata": {},
   "outputs": [
    {
     "name": "stdout",
     "output_type": "stream",
     "text": [
      "idade      20-29  30-39  40-49\n",
      "genero                        \n",
      "Feminino      14      7      0\n",
      "Masculino      9      9      4\n"
     ]
    }
   ],
   "source": [
    "# Criar categorias de faixa etária\n",
    "faixas_etarias = pd.cut(df['idade'], bins=[20, 30, 40, 50], labels=['20-29', '30-39', '40-49'])\n",
    "\n",
    "# Contar quantos registros estão em cada faixa etária para cada gênero\n",
    "contagem_genero_faixa_etaria = df.groupby(['genero', faixas_etarias])['idade'].count().unstack()\n",
    "print(contagem_genero_faixa_etaria)"
   ]
  },
  {
   "cell_type": "markdown",
   "metadata": {},
   "source": [
    "Isso mostra a contagem de registros em cada faixa etária para cada gênero."
   ]
  },
  {
   "cell_type": "markdown",
   "metadata": {},
   "source": [
    "Porcentagem de registros por gênero:"
   ]
  },
  {
   "cell_type": "code",
   "execution_count": null,
   "metadata": {},
   "outputs": [],
   "source": [
    "# Calcular a porcentagem de registros para cada gênero\n",
    "porcentagem_genero = df['genero'].value_counts(normalize=True) * 100\n",
    "print(porcentagem_genero)"
   ]
  },
  {
   "cell_type": "markdown",
   "metadata": {},
   "source": [
    "Isso calcula a porcentagem de registros para cada categoria única na coluna 'genero'."
   ]
  },
  {
   "cell_type": "markdown",
   "metadata": {},
   "source": [
    "Claro, vamos continuar com mais análises dos dados:"
   ]
  },
  {
   "cell_type": "markdown",
   "metadata": {},
   "source": [
    "Contagem de registros por domínio de e-mail e gênero:"
   ]
  },
  {
   "cell_type": "code",
   "execution_count": 12,
   "metadata": {},
   "outputs": [
    {
     "name": "stdout",
     "output_type": "stream",
     "text": [
      "dominio_email  email.com\n",
      "genero                  \n",
      "Feminino              21\n",
      "Masculino             22\n"
     ]
    }
   ],
   "source": [
    "# Contar quantos registros existem para cada domínio de e-mail para cada gênero\n",
    "contagem_dominio_email_genero = df.groupby(['genero', 'dominio_email'])['idade'].count().unstack()\n",
    "print(contagem_dominio_email_genero)"
   ]
  },
  {
   "cell_type": "markdown",
   "metadata": {},
   "source": [
    "Esta análise mostra quantos registros existem para cada domínio de e-mail, separados por gênero."
   ]
  },
  {
   "cell_type": "markdown",
   "metadata": {},
   "source": [
    "Média de idade por faixa etária e gênero:"
   ]
  },
  {
   "cell_type": "code",
   "execution_count": 13,
   "metadata": {},
   "outputs": [
    {
     "name": "stdout",
     "output_type": "stream",
     "text": [
      "genero   Feminino  Masculino\n",
      "idade                       \n",
      "20-29   26.714286  28.333333\n",
      "30-39   34.000000  33.888889\n",
      "40-49         NaN  43.250000\n"
     ]
    }
   ],
   "source": [
    "# Calcular a média de idade para cada faixa etária e gênero\n",
    "media_idade_faixa_etaria_genero = df.groupby([faixas_etarias, 'genero'])['idade'].mean().unstack()\n",
    "print(media_idade_faixa_etaria_genero)"
   ]
  },
  {
   "cell_type": "markdown",
   "metadata": {},
   "source": [
    "Isso calcula a média de idade para cada combinação de faixa etária e gênero."
   ]
  },
  {
   "cell_type": "markdown",
   "metadata": {},
   "source": [
    "Quantidade de registros por gênero e estado civil:"
   ]
  },
  {
   "cell_type": "code",
   "execution_count": null,
   "metadata": {},
   "outputs": [],
   "source": [
    "# Suponhamos que exista uma coluna 'estado_civil' em seus dados\n",
    "contagem_genero_estado_civil = df.groupby(['genero', 'estado_civil'])['idade'].count().unstack()\n",
    "print(contagem_genero_estado_civil)"
   ]
  },
  {
   "cell_type": "markdown",
   "metadata": {},
   "source": [
    "Esta análise mostrará a quantidade de registros para cada combinação de gênero e estado civil (supondo que exista uma coluna 'estado_civil' em seus dados)."
   ]
  },
  {
   "cell_type": "markdown",
   "metadata": {},
   "source": [
    "Histograma de idades:"
   ]
  },
  {
   "cell_type": "code",
   "execution_count": null,
   "metadata": {},
   "outputs": [
    {
     "data": {
      "image/png": "[encoded data removed]",
      "text/plain": [
       "<Figure size 432x288 with 1 Axes>"
      ]
     },
     "metadata": {
      "needs_background": "light"
     },
     "output_type": "display_data"
    }
   ],
   "source": [
    "import matplotlib.pyplot as plt\n",
    "\n",
    "# Gerar um histograma das idades\n",
    "plt.hist(df['idade'], bins=10, edgecolor='k')\n",
    "plt.xlabel('Idade')\n",
    "plt.ylabel('Contagem')\n",
    "plt.title('Histograma de Idades')\n",
    "plt.show()"
   ]
  },
  {
   "cell_type": "markdown",
   "metadata": {},
   "source": [
    "Isso criará um histograma das idades para visualizar a distribuição das idades nos seus dados."
   ]
  },
  {
   "cell_type": "markdown",
   "metadata": {},
   "source": [
    "Essas análises adicionais permitem explorar mais profundamente seus dados e obter insights específicos com base em diferentes variáveis."
   ]
  },
  {
   "cell_type": "markdown",
   "metadata": {},
   "source": [
    "Contagem de registros por gênero e categoria de renda:"
   ]
  },
  {
   "cell_type": "code",
   "execution_count": null,
   "metadata": {},
   "outputs": [],
   "source": [
    "# Suponhamos que exista uma coluna 'categoria_renda' em seus dados\n",
    "contagem_genero_categoria_renda = df.groupby(['genero', 'categoria_renda'])['idade'].count().unstack()\n",
    "print(contagem_genero_categoria_renda)"
   ]
  },
  {
   "cell_type": "markdown",
   "metadata": {},
   "source": [
    "Esta análise mostrará a contagem de registros para cada combinação de gênero e categoria de renda (supondo que exista uma coluna 'categoria_renda' em seus dados)."
   ]
  },
  {
   "cell_type": "markdown",
   "metadata": {},
   "source": [
    "Porcentagem de registros por categoria de renda:"
   ]
  },
  {
   "cell_type": "code",
   "execution_count": null,
   "metadata": {},
   "outputs": [],
   "source": [
    "# Calcular a porcentagem de registros para cada categoria de renda\n",
    "porcentagem_categoria_renda = df['categoria_renda'].value_counts(normalize=True) * 100\n",
    "print(porcentagem_categoria_renda)"
   ]
  },
  {
   "cell_type": "markdown",
   "metadata": {},
   "source": [
    "Isso calculará a porcentagem de registros para cada categoria única na coluna 'categoria_renda'."
   ]
  },
  {
   "cell_type": "markdown",
   "metadata": {},
   "source": [
    "Gráfico de barras de contagem por categoria de renda:"
   ]
  },
  {
   "cell_type": "code",
   "execution_count": null,
   "metadata": {},
   "outputs": [],
   "source": [
    "import matplotlib.pyplot as plt\n",
    "\n",
    "# Suponhamos que exista uma coluna 'categoria_renda' em seus dados\n",
    "contagem_categoria_renda = df['categoria_renda'].value_counts()\n",
    "contagem_categoria_renda.plot(kind='bar')\n",
    "plt.xlabel('Categoria de Renda')\n",
    "plt.ylabel('Contagem')\n",
    "plt.title('Contagem por Categoria de Renda')\n",
    "plt.show()"
   ]
  },
  {
   "cell_type": "markdown",
   "metadata": {},
   "source": [
    "Este código criará um gráfico de barras mostrando a contagem de registros em cada categoria de renda."
   ]
  },
  {
   "cell_type": "markdown",
   "metadata": {},
   "source": [
    "Idade média por estado civil:"
   ]
  },
  {
   "cell_type": "code",
   "execution_count": null,
   "metadata": {},
   "outputs": [],
   "source": [
    "# Suponhamos que exista uma coluna 'estado_civil' em seus dados\n",
    "idade_media_estado_civil = df.groupby('estado_civil')['idade'].mean()\n",
    "print(idade_media_estado_civil)"
   ]
  },
  {
   "cell_type": "markdown",
   "metadata": {},
   "source": [
    "Isso calculará a idade média para cada estado civil presente em seus dados (supondo que exista uma coluna 'estado_civil' em seus dados)."
   ]
  }
 ],
 "metadata": {
  "kernelspec": {
   "display_name": "Python 3",
   "language": "python",
   "name": "python3"
  },
  "language_info": {
   "codemirror_mode": {
    "name": "ipython",
    "version": 3
   },
   "file_extension": ".py",
   "mimetype": "text/x-python",
   "name": "python",
   "nbconvert_exporter": "python",
   "pygments_lexer": "ipython3",
   "version": "3.10.5"
  },
  "orig_nbformat": 4
 },
 "nbformat": 4,
 "nbformat_minor": 2
}
