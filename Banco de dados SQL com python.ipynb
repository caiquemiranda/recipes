{
 "cells": [
  {
   "cell_type": "code",
   "execution_count": 2,
   "metadata": {},
   "outputs": [
    {
     "name": "stdout",
     "output_type": "stream",
     "text": [
      "Banco de dados \"banco_de_dados.db\" criado com sucesso!\n"
     ]
    }
   ],
   "source": [
    "import sqlite3\n",
    "\n",
    "# Substitua 'seu_banco_de_dados.db' pelo nome que você deseja para o banco de dados\n",
    "banco_de_dados = 'banco_de_dados.db'\n",
    "\n",
    "# Cria uma conexão com o banco de dados (ele será criado se não existir)\n",
    "conexao = sqlite3.connect(banco_de_dados)\n",
    "\n",
    "# Cria um cursor para executar comandos SQL\n",
    "cursor = conexao.cursor()\n",
    "\n",
    "# Defina suas tabelas e esquema aqui\n",
    "\n",
    "cursor.execute('''\n",
    "    CREATE TABLE IF NOT EXISTS exemplo (\n",
    "        id INTEGER PRIMARY KEY,\n",
    "        nome TEXT,\n",
    "        genero TEXT, \n",
    "        idade INTEGER,\n",
    "        email TEXT, \n",
    "        telefone INT,\n",
    "        estado_civil TEXT\n",
    "    )\n",
    "''')\n",
    "\n",
    "# Salva as alterações e fecha a conexão com o banco de dados\n",
    "conexao.commit()\n",
    "conexao.close()\n",
    "\n",
    "print(f'Banco de dados \"{banco_de_dados}\" criado com sucesso!')"
   ]
  },
  {
   "cell_type": "markdown",
   "metadata": {},
   "source": [
    "Neste exemplo, o script cria um banco de dados SQLite chamado 'seu_banco_de_dados.db' e define uma tabela de exemplo chamada 'exemplo' com três colunas: 'id', 'nome' e 'idade'. Você pode personalizar o esquema do banco de dados e as tabelas de acordo com suas necessidades. Certifique-se de que o nome do banco de dados e as definições de tabela correspondam ao que você deseja criar."
   ]
  },
  {
   "cell_type": "markdown",
   "metadata": {},
   "source": [
    "Vou criar uma massa de dados de exemplo e preencher a tabela 'exemplo' no banco de dados SQLite que criamos anteriormente. Você pode ajustar os valores de acordo com suas necessidades:"
   ]
  },
  {
   "cell_type": "code",
   "execution_count": 4,
   "metadata": {},
   "outputs": [],
   "source": [
    "# Salva as alterações e fecha a conexão\n",
    "conexao.commit()\n",
    "conexao.close()"
   ]
  },
  {
   "cell_type": "code",
   "execution_count": null,
   "metadata": {},
   "outputs": [],
   "source": [
    "import sqlite3\n",
    "\n",
    "# Substitua pelo nome do seu banco de dados\n",
    "banco_de_dados = 'banco_de_dados.db'\n",
    "\n",
    "# Dados de exemplo com mais atributos\n",
    "dados_exemplo = [\n",
    "    (1, 'Alice', 'Feminino', 28, 'alice@email.com', '123-456-7890', 'maried'),\n",
    "    (2, 'Bob', 'Masculino', 32, 'bob@email.com', '987-654-3210', 'maried'),\n",
    "    (3, 'Carlos', 'Masculino', 45, 'carlos@email.com', '555-555-5555', 'maried'),\n",
    "    (4, 'Daniela', 'Feminino', 22, 'daniela@email.com', '999-888-7777', 'maried'),\n",
    "    (5, 'Eduardo', 'Masculino', 35, 'eduardo@email.com', '111-222-3333', 'maried'),\n",
    "    (6, 'Fernanda', 'Feminino', 29, 'fernanda@email.com', '777-888-9999', 'maried'),\n",
    "    (7, 'Gabriel', 'Masculino', 28, 'gabriel@email.com', '333-444-5555', 'maried'),\n",
    "    (8, 'Hugo', 'Masculino', 42, 'hugo@email.com', '555-111-3333', 'single'),\n",
    "    (9, 'Isabela', 'Feminino', 31, 'isabela@email.com', '777-999-0000', 'single'),\n",
    "    (10, 'João', 'Masculino', 29, 'joao@email.com', '444-333-2222', 'single'),    \n",
    "    (11, 'Laura', 'Feminino', 27, 'laura@email.com', '111-222-3333', 'single'),\n",
    "    (12, 'Miguel', 'Masculino', 30, 'miguel@email.com', '444-555-6666', 'single'),\n",
    "    (13, 'Natália', 'Feminino', 35, 'natalia@email.com', '777-888-9999', 'maried'),\n",
    "    (14, 'Oliver', 'Masculino', 29, 'oliver@email.com', '222-333-4444', 'single'),\n",
    "    (15, 'Paula', 'Feminino', 40, 'paula@email.com', '555-666-7777', 'maried'),\n",
    "    (16, 'Rafael', 'Masculino', 33, 'rafael@email.com', '888-999-0000', 'maried'),\n",
    "    (17, 'Sofia', 'Feminino', 28, 'sofia@email.com', '333-444-5555', 'maried'),\n",
    "    (18, 'Thiago', 'Masculino', 31, 'thiago@email.com', '666-777-8888', 'maried'),\n",
    "    (19, 'Valentina', 'Feminino', 26, 'valentina@email.com', '111-222-3333', 'single'),\n",
    "    (20, 'William', 'Masculino', 38, 'william@email.com', '444-555-6666', 'single'),\n",
    "    (21, 'Ximena', 'Feminino', 32, 'ximena@email.com', '777-888-9999', 'maried'),\n",
    "    (22, 'Yago', 'Masculino', 29, 'yago@email.com', '222-333-4444', 'single'),\n",
    "    (23, 'Zara', 'Feminino', 29, 'zara@email.com', '555-666-7777', 'maried'),\n",
    "    (24, 'Alex', 'Masculino', 27, 'alex@email.com', '123-456-7890', 'single'),\n",
    "    (25, 'Beatriz', 'Feminino', 33, 'beatriz@email.com', '987-654-3210', 'single'),\n",
    "    (26, 'César', 'Masculino', 45, 'cesar@email.com', '555-555-5555', 'single'),\n",
    "    (27, 'Diana', 'Feminino', 22, 'diana@email.com', '999-888-7777', 'single'),\n",
    "    (28, 'Eduarda', 'Feminino', 35, 'eduarda@email.com', '111-222-3333', 'single'),\n",
    "    (29, 'Felipe', 'Masculino', 30, 'felipe@email.com', '777-888-9999', 'single'),\n",
    "    (30, 'Giovanna', 'Feminino', 28, 'giovanna@email.com', '333-444-5555', 'maried'),\n",
    "    (31, 'Henrique', 'Masculino', 31, 'henrique@email.com', '666-777-8888', 'maried'),\n",
    "    (32, 'Isaac', 'Masculino', 26, 'isaac@email.com', '123-456-7890', 'maried'),\n",
    "    (33, 'Júlia', 'Feminino', 30, 'julia@email.com', '987-654-3210', 'single'),\n",
    "    (34, 'Kauã', 'Masculino', 41, 'kaua@email.com', '555-555-5555', 'maried'),\n",
    "    (35, 'Lara', 'Feminino', 25, 'lara@email.com', '999-888-7777', 'single'),\n",
    "    (36, 'Mateus', 'Masculino', 34, 'mateus@email.com', '111-222-3333', 'single'),\n",
    "    (37, 'Nina', 'Feminino', 29, 'nina@email.com', '777-888-9999', 'single'),\n",
    "    (38, 'Otávio', 'Masculino', 27, 'otavio@email.com', '123-456-7890', 'single'),\n",
    "    (39, 'Pietra', 'Feminino', 32, 'pietra@email.com', '987-654-3210', 'single'),\n",
    "    (40, 'Raul', 'Masculino', 36, 'raul@email.com', '555-555-5555', 'single'),\n",
    "    (41, 'Sara', 'Feminino', 23, 'sara@email.com', '999-888-7777', 'single'),\n",
    "    (42, 'Thales', 'Masculino', 35, 'thales@email.com', '111-222-3333', 'single'),\n",
    "    (43, 'Uma', 'Feminino', 28, 'uma@email.com', '777-888-9999', 'single'),\n",
    "\n",
    "]\n",
    "\n",
    "# Conecta-se ao banco de dados\n",
    "conexao = sqlite3.connect(banco_de_dados)\n",
    "cursor = conexao.cursor()\n",
    "\n",
    "# Insere os dados na tabela 'exemplo' com mais atributos\n",
    "cursor.executemany('''\n",
    "    INSERT INTO exemplo (id, nome, genero, idade, email, telefone, estado_civil)\n",
    "    VALUES (?, ?, ?, ?, ?, ?, ?)\n",
    "    ''', \n",
    "    dados_exemplo)\n",
    "\n",
    "# Salva as alterações e fecha a conexão\n",
    "conexao.commit()\n",
    "conexao.close()\n",
    "\n",
    "print('Dados inseridos com sucesso!')"
   ]
  },
  {
   "cell_type": "markdown",
   "metadata": {},
   "source": [
    "apenas certifique-se de atualizar os valores dos atributos como 'id', 'nome', 'genero', 'idade', 'email' e 'telefone' para corresponder aos dados desejados. Certifique-se também de que o nome do banco de dados e o esquema da tabela estejam corretos."
   ]
  }
 ],
 "metadata": {
  "kernelspec": {
   "display_name": "Python 3",
   "language": "python",
   "name": "python3"
  },
  "language_info": {
   "codemirror_mode": {
    "name": "ipython",
    "version": 3
   },
   "file_extension": ".py",
   "mimetype": "text/x-python",
   "name": "python",
   "nbconvert_exporter": "python",
   "pygments_lexer": "ipython3",
   "version": "3.10.5"
  },
  "orig_nbformat": 4
 },
 "nbformat": 4,
 "nbformat_minor": 2
}
