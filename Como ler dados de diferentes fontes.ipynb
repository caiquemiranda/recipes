{
 "cells": [
  {
   "cell_type": "markdown",
   "metadata": {},
   "source": [
    "#### Passo 1: Instalar as bibliotecas necessárias\n",
    "---\n",
    "Certifique-se de que você tenha as bibliotecas Pandas, openpyxl (para leitura de arquivos Excel), e SQLAlchemy (para leitura de bancos de dados) instaladas. Você pode instalá-las usando o pip:"
   ]
  },
  {
   "cell_type": "code",
   "execution_count": null,
   "metadata": {},
   "outputs": [],
   "source": [
    "!pip install pandas openpyxl sqlalchemy requests"
   ]
  },
  {
   "cell_type": "markdown",
   "metadata": {},
   "source": [
    "#### Passo 2: Importar as bibliotecas\n",
    "---"
   ]
  },
  {
   "cell_type": "code",
   "execution_count": null,
   "metadata": {},
   "outputs": [],
   "source": [
    "import pandas as pd\n",
    "from sqlalchemy import create_engine\n",
    "import requests"
   ]
  },
  {
   "cell_type": "markdown",
   "metadata": {},
   "source": [
    "#### Passo 3: Ler dados de um arquivo CSV\n",
    "---"
   ]
  },
  {
   "cell_type": "code",
   "execution_count": null,
   "metadata": {},
   "outputs": [],
   "source": [
    "# Substitua 'seu_arquivo.csv' pelo nome do seu arquivo CSV\n",
    "df_csv = pd.read_csv('seu_arquivo.csv')\n",
    "\n",
    "# Exemplo: Mostrar as primeiras linhas do DataFrame\n",
    "print(df_csv.head())\n"
   ]
  },
  {
   "cell_type": "markdown",
   "metadata": {},
   "source": [
    "#### Passo 4: Ler dados de um arquivo Excel\n",
    "---"
   ]
  },
  {
   "cell_type": "code",
   "execution_count": null,
   "metadata": {},
   "outputs": [],
   "source": [
    "# Substitua 'seu_arquivo.xlsx' pelo nome do seu arquivo Excel\n",
    "df_excel = pd.read_excel('seu_arquivo.xlsx', sheet_name='Planilha1')\n",
    "\n",
    "# Exemplo: Mostrar as primeiras linhas do DataFrame\n",
    "print(df_excel.head())"
   ]
  },
  {
   "cell_type": "markdown",
   "metadata": {},
   "source": [
    "#### Passo 5: Ler dados de um banco de dados (SQLite neste exemplo)\n",
    "---"
   ]
  },
  {
   "cell_type": "code",
   "execution_count": null,
   "metadata": {},
   "outputs": [],
   "source": [
    "# Substitua 'seu_banco_de_dados.db' pelo caminho do seu banco de dados SQLite\n",
    "engine = create_engine('sqlite:///seu_banco_de_dados.db')\n",
    "\n",
    "# Substitua 'sua_tabela' pelo nome da tabela que você deseja ler\n",
    "query = 'SELECT * FROM sua_tabela'\n",
    "\n",
    "df_db = pd.read_sql(query, engine)\n",
    "\n",
    "# Exemplo: Mostrar as primeiras linhas do DataFrame\n",
    "print(df_db.head())\n"
   ]
  },
  {
   "cell_type": "markdown",
   "metadata": {},
   "source": [
    "#### Passo 6: Ler dados de uma URL da web\n",
    "---"
   ]
  },
  {
   "cell_type": "code",
   "execution_count": null,
   "metadata": {},
   "outputs": [],
   "source": [
    "# Substitua 'sua_url' pela URL da página da web que contém os dados que você deseja ler\n",
    "url = 'sua_url'\n",
    "\n",
    "# Use a biblioteca 'requests' para obter os dados da web\n",
    "response = requests.get(url)\n",
    "\n",
    "# Leia os dados em um DataFrame (supondo que os dados estejam em formato CSV)\n",
    "df_web = pd.read_csv(pd.compat.StringIO(response.text))\n",
    "\n",
    "# Exemplo: Mostrar as primeiras linhas do DataFrame\n",
    "print(df_web.head())\n"
   ]
  },
  {
   "cell_type": "markdown",
   "metadata": {},
   "source": [
    "Agora você tem um script em Python que pode ler dados de diferentes fontes, incluindo CSV, Excel, bancos de dados e da web, usando a biblioteca Pandas. Certifique-se de personalizar o código de acordo com suas necessidades específicas, como nomes de arquivos, tabelas de banco de dados e URLs."
   ]
  }
 ],
 "metadata": {
  "language_info": {
   "name": "python"
  },
  "orig_nbformat": 4
 },
 "nbformat": 4,
 "nbformat_minor": 2
}
